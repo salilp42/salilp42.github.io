{
  "nbformat": 4,
  "nbformat_minor": 0,
  "metadata": {
    "colab": {
      "provenance": [],
      "authorship_tag": "ABX9TyNmtYI05TfxMvpPKq++TcIE"
    },
    "kernelspec": {
      "name": "python3",
      "display_name": "Python 3"
    },
    "language_info": {
      "name": "python"
    }
  },
  "cells": [
    {
      "cell_type": "code",
      "execution_count": null,
      "metadata": {
        "id": "uFeTwaBmEZq6"
      },
      "outputs": [],
      "source": [
        "import pandas as pd\n",
        "\n",
        "# Import all blocks as pandas DataFrames\n",
        "blocks = []\n",
        "for i in range(1, 25):\n",
        "    block = pd.read_csv(f\"block{i}.csv\")\n",
        "    blocks.append(block)\n",
        "\n",
        "# Exclude saccades according to the following criteria:\n",
        "# automatically rejected by LatencyMeter, latency <100ms or >1000ms, \n",
        "# amplitude >40◦, peak velocity > 1000 deg s−1\n",
        "for block in blocks:\n",
        "    block = block[(block[\"LatencyMeter\"] != \"rejected\") & \n",
        "                  (block[\"latency\"] >= 100) & (block[\"latency\"] <= 1000) &\n",
        "                  (block[\"amplitude\"] <= 40) & (block[\"peak_velocity\"] <= 1000)]\n",
        "\n",
        "# For each participant, gather data from all blocks, \n",
        "# numbering trials sequentially according to the protocol, i.e. in the range 1–240\n",
        "all_data = pd.concat(blocks)\n",
        "all_data[\"trial_number\"] = range(1, len(all_data) + 1)\n",
        "\n",
        "# For raw data, extract the first 25 samples for each saccade \n",
        "# (i.e. −25ms to 100ms from saccade initiation)\n",
        "all_data[\"saccade_data\"] = all_data.apply(lambda row: row[\"raw_data\"][:25], axis=1)\n",
        "\n",
        "# where <25 samples are available, right-pad the data with\n",
        "# the amplitude of the last observed sample\n",
        "all_data[\"saccade_data\"] = all_data.apply(lambda row: \n",
        "                                        row[\"saccade_data\"] + [row[\"saccade_data\"][-1]]*(25-len(row[\"saccade_data\"])), axis=1)\n",
        "\n",
        "# Divide by the target eccentricity (10◦ was used throughout) to obtain 25 gain samples\n",
        "all_data[\"gain_samples\"] = all_data.apply(lambda row: [sample/10 for sample in row[\"saccade_data\"]], axis=1)\n"
      ]
    }
  ]
}