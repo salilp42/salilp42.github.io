{
  "nbformat": 4,
  "nbformat_minor": 0,
  "metadata": {
    "colab": {
      "provenance": [],
      "authorship_tag": "ABX9TyPp9M4CpdVpxSopnfgC0vTm",
      "include_colab_link": true
    },
    "kernelspec": {
      "name": "python3",
      "display_name": "Python 3"
    },
    "language_info": {
      "name": "python"
    }
  },
  "cells": [
    {
      "cell_type": "markdown",
      "metadata": {
        "id": "view-in-github",
        "colab_type": "text"
      },
      "source": [
        "<a href=\"https://colab.research.google.com/github/salilp42/salilp42.github.io/blob/master/Geometric_Deep_Learning_Model_for_saccade_trace_analysis.ipynb\" target=\"_parent\"><img src=\"https://colab.research.google.com/assets/colab-badge.svg\" alt=\"Open In Colab\"/></a>"
      ]
    },
    {
      "cell_type": "code",
      "execution_count": null,
      "metadata": {
        "id": "FS2BMX_nNeI4"
      },
      "outputs": [],
      "source": [
        "import networkx as nx\n",
        "import numpy as np\n",
        "from sklearn.manifold import TSNE\n",
        "from sklearn.decomposition import PCA\n",
        "from sklearn.cluster import KMeans\n",
        "\n",
        "# Load eye tracking data as a list of (x, y) coordinates\n",
        "data = np.loadtxt('eye_tracking_data.txt')\n",
        "\n",
        "# Create a graph from the eye tracking data\n",
        "graph = nx.Graph()\n",
        "for i in range(data.shape[0]):\n",
        "    graph.add_node(i, pos=data[i])\n",
        "    if i > 0:\n",
        "        graph.add_edge(i, i-1)\n",
        "\n",
        "# Use t-SNE to reduce the dimensionality of the data\n",
        "tsne = TSNE(n_components=2)\n",
        "tsne_data = tsne.fit_transform(data)\n",
        "\n",
        "# Use PCA to reduce the dimensionality of the data\n",
        "pca = PCA(n_components=2)\n",
        "pca_data = pca.fit_transform(data)\n",
        "\n",
        "# Use K-means to cluster the data\n",
        "kmeans = KMeans(n_clusters=4)\n",
        "kmeans_data = kmeans.fit_predict(data)\n",
        "\n",
        "# Plot the data\n",
        "import matplotlib.pyplot as plt\n",
        "fig, axs = plt.subplots(1, 3)\n",
        "axs[0].scatter(tsne_data[:, 0], tsne_data[:, 1])\n",
        "axs[0].set_title('t-SNE')\n",
        "axs[1].scatter(pca_data[:, 0], pca_data[:, 1])\n",
        "axs[1].set_title('PCA')\n",
        "axs[2].scatter(data[:, 0], data[:, 1], c=kmeans_data)\n",
        "axs[2].set_title('K-means Clustering')\n",
        "plt.show()\n"
      ]
    }
  ]
}