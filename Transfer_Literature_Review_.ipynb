{
  "nbformat": 4,
  "nbformat_minor": 0,
  "metadata": {
    "colab": {
      "provenance": [],
      "authorship_tag": "ABX9TyNqMhwtfRPKYWvkwkuGV4z2",
      "include_colab_link": true
    },
    "kernelspec": {
      "name": "python3",
      "display_name": "Python 3"
    },
    "language_info": {
      "name": "python"
    }
  },
  "cells": [
    {
      "cell_type": "markdown",
      "metadata": {
        "id": "view-in-github",
        "colab_type": "text"
      },
      "source": [
        "<a href=\"https://colab.research.google.com/github/salilp42/salilp42.github.io/blob/master/Transfer_Literature_Review_.ipynb\" target=\"_parent\"><img src=\"https://colab.research.google.com/assets/colab-badge.svg\" alt=\"Open In Colab\"/></a>"
      ]
    },
    {
      "cell_type": "code",
      "source": [
        "!pip install biopython\n",
        "from Bio import Entrez\n",
        "\n",
        "Entrez.email = \"salilp42@gmail.com\"\n",
        "\n",
        "# Search for articles on \"parkinson's disease and retina\"\n",
        "handle = Entrez.esearch(db=\"pubmed\", term=\"parkinson's disease AND retina\", retmax=20, mindate=2000, datetype='pdat', lang='eng')\n",
        "results = Entrez.read(handle)\n",
        "print(\"Results for 'parkinson's disease AND retina'\")\n",
        "for result in results[\"IdList\"]:\n",
        "    print(result)\n",
        "print(\"\\n\")\n",
        "\n",
        "# Search for articles on \"progressive supranuclear palsy and retina\"\n",
        "handle = Entrez.esearch(db=\"pubmed\", term=\"progressive supranuclear palsy AND retina\", retmax=20, mindate=2000, datetype='pdat', lang='eng')\n",
        "results = Entrez.read(handle)\n",
        "print(\"Results for 'progressive supranuclear palsy AND retina'\")\n",
        "for result in results[\"IdList\"]:\n",
        "    print(result)\n",
        "print(\"\\n\")\n",
        "\n",
        "# Search for articles on \"retina AND machine learning AND parkinson's disease\"\n",
        "handle = Entrez.esearch(db=\"pubmed\", term=\"retina AND machine learning AND parkinson's disease\", retmax=20, mindate=2000, datetype='pdat', lang='eng')\n",
        "results = Entrez.read(handle)\n",
        "print(\"Results for 'retina AND machine learning AND parkinson's disease'\")\n",
        "for result in results[\"IdList\"]:\n",
        "    print(result)\n",
        "print(\"\\n\")\n",
        "\n",
        "# Search for articles on \"retina AND deep learning AND Parkinson's disease\"\n",
        "handle = Entrez.esearch(db=\"pubmed\", term=\"retina AND deep learning AND Parkinson's disease\", retmax=20, mindate=2000, datetype='pdat', lang='eng')\n",
        "results = Entrez.read(handle)\n",
        "print(\"Results for 'retina AND deep learning AND Parkinson's disease'\")\n",
        "for result in results[\"IdList\"]:\n",
        "    print(result)\n",
        "print(\"\\n\")"
      ],
      "metadata": {
        "colab": {
          "base_uri": "https://localhost:8080/"
        },
        "id": "OCCHehWWtCWo",
        "outputId": "d0c180d9-bb5e-4406-92ab-64021b52f542"
      },
      "execution_count": 9,
      "outputs": [
        {
          "output_type": "stream",
          "name": "stdout",
          "text": [
            "Looking in indexes: https://pypi.org/simple, https://us-python.pkg.dev/colab-wheels/public/simple/\n",
            "Requirement already satisfied: biopython in /usr/local/lib/python3.8/dist-packages (1.80)\n",
            "Requirement already satisfied: numpy in /usr/local/lib/python3.8/dist-packages (from biopython) (1.21.6)\n",
            "Results for 'parkinson's disease AND retina'\n",
            "36620455\n",
            "36577381\n",
            "36529112\n",
            "36483090\n",
            "36445243\n",
            "36438942\n",
            "36433650\n",
            "36430270\n",
            "36412149\n",
            "36376408\n",
            "36359797\n",
            "36348068\n",
            "36336834\n",
            "36316783\n",
            "36310821\n",
            "36246947\n",
            "36210260\n",
            "36186761\n",
            "36179903\n",
            "36161154\n",
            "\n",
            "\n",
            "Results for 'progressive supranuclear palsy AND retina'\n",
            "35411501\n",
            "34921616\n",
            "34794500\n",
            "34245345\n",
            "31855622\n",
            "31019447\n",
            "29240574\n",
            "28706282\n",
            "24785101\n",
            "23907408\n",
            "23300938\n",
            "22514688\n",
            "20086286\n",
            "19645882\n",
            "16164231\n",
            "12062036\n",
            "10656512\n",
            "8032856\n",
            "\n",
            "\n",
            "Results for 'retina AND machine learning AND parkinson's disease'\n",
            "36310821\n",
            "34008926\n",
            "31226150\n",
            "\n",
            "\n",
            "Results for 'retina AND deep learning AND Parkinson's disease'\n",
            "35621903\n",
            "35352798\n",
            "\n",
            "\n"
          ]
        }
      ]
    },
    {
      "cell_type": "code",
      "source": [
        "from Bio import Entrez\n",
        "\n",
        "Entrez.email = \"salilp42@gmail.com\"\n",
        "\n",
        "# Define the search terms\n",
        "terms = [\n",
        "    \"parkinson's disease AND retina\",\n",
        "    \"progressive supranuclear palsy AND retina\",\n",
        "    \"retina AND machine learning AND parkinson's disease\",\n",
        "    \"retina AND deep learning AND Parkinson's disease\"\n",
        "]\n",
        "\n",
        "# Perform the searches and tabulate the results\n",
        "results = {}\n",
        "for term in terms:\n",
        "    handle = Entrez.esearch(db=\"pubmed\", term=term, mindate=2000, datetype='pdat', lang='eng')\n",
        "    search_results = Entrez.read(handle)\n",
        "    results[term] = search_results[\"Count\"]\n",
        "\n",
        "# Print the results\n",
        "for term, count in results.items():\n",
        "    print(f'{term}: {count}')"
      ],
      "metadata": {
        "colab": {
          "base_uri": "https://localhost:8080/"
        },
        "id": "cIEKVdELuNyP",
        "outputId": "52ceb7da-4818-4fb0-ce0d-d3a87f96f384"
      },
      "execution_count": 10,
      "outputs": [
        {
          "output_type": "stream",
          "name": "stdout",
          "text": [
            "parkinson's disease AND retina: 590\n",
            "progressive supranuclear palsy AND retina: 18\n",
            "retina AND machine learning AND parkinson's disease: 3\n",
            "retina AND deep learning AND Parkinson's disease: 2\n"
          ]
        }
      ]
    },
    {
      "cell_type": "code",
      "source": [
        "!pip install biopython\n",
        "from Bio import Entrez\n",
        "\n",
        "Entrez.email = \"salilp42@gmail.com\"\n",
        "\n",
        "# Search for articles on \"parkinson's disease and saccades\"\n",
        "handle = Entrez.esearch(db=\"pubmed\", term=\"parkinson's disease AND saccades\", retmax=20, mindate=2000, datetype='pdat', lang='eng')\n",
        "results = Entrez.read(handle)\n",
        "print(\"Results for 'parkinson's disease AND saccades'\")\n",
        "for result in results[\"IdList\"]:\n",
        "    print(result)\n",
        "print(\"\\n\")\n",
        "\n",
        "# Search for articles on \"progressive supranuclear palsy and saccades\"\n",
        "handle = Entrez.esearch(db=\"pubmed\", term=\"progressive supranuclear palsy AND saccades\", retmax=20, mindate=2000, datetype='pdat', lang='eng')\n",
        "results = Entrez.read(handle)\n",
        "print(\"Results for 'progressive supranuclear palsy AND saccades'\")\n",
        "for result in results[\"IdList\"]:\n",
        "    print(result)\n",
        "print(\"\\n\")\n",
        "\n",
        "# Search for articles on \"saccades AND machine learning AND parkinson's disease\"\n",
        "handle = Entrez.esearch(db=\"pubmed\", term=\"saccades AND machine learning AND parkinson's disease\", retmax=20, mindate=2000, datetype='pdat', lang='eng')\n",
        "results = Entrez.read(handle)\n",
        "print(\"Results for 'saccades AND machine learning AND parkinson's disease'\")\n",
        "for result in results[\"IdList\"]:\n",
        "    print(result)\n",
        "print(\"\\n\")\n",
        "\n",
        "# Search for articles on \"saccades AND deep learning AND Parkinson's disease\"\n",
        "handle = Entrez.esearch(db=\"pubmed\", term=\"saccades AND deep learning AND Parkinson's disease\", retmax=20, mindate=2000, datetype='pdat', lang='eng')\n",
        "results = Entrez.read(handle)\n",
        "print(\"Results for 'saccades AND deep learning AND Parkinson's disease'\")\n",
        "for result in results[\"IdList\"]:\n",
        "    print(result)\n",
        "print(\"\\n\")"
      ],
      "metadata": {
        "colab": {
          "base_uri": "https://localhost:8080/"
        },
        "id": "6t-DE9pjuxlj",
        "outputId": "af044cda-38dd-4671-984e-779d4a4f2a7d"
      },
      "execution_count": 12,
      "outputs": [
        {
          "output_type": "stream",
          "name": "stdout",
          "text": [
            "Looking in indexes: https://pypi.org/simple, https://us-python.pkg.dev/colab-wheels/public/simple/\n",
            "Requirement already satisfied: biopython in /usr/local/lib/python3.8/dist-packages (1.80)\n",
            "Requirement already satisfied: numpy in /usr/local/lib/python3.8/dist-packages (from biopython) (1.21.6)\n",
            "Results for 'parkinson's disease AND saccades'\n",
            "36463428\n",
            "36437987\n",
            "36356484\n",
            "36291233\n",
            "36192179\n",
            "36184657\n",
            "36158551\n",
            "36090872\n",
            "36089449\n",
            "36070246\n",
            "35995722\n",
            "35990016\n",
            "35966789\n",
            "35810513\n",
            "35752126\n",
            "35642995\n",
            "35625047\n",
            "35501501\n",
            "35211005\n",
            "35063499\n",
            "\n",
            "\n",
            "Results for 'progressive supranuclear palsy AND saccades'\n",
            "36356484\n",
            "36192179\n",
            "36183516\n",
            "35779379\n",
            "35752126\n",
            "35668689\n",
            "35642995\n",
            "35501501\n",
            "35402641\n",
            "35002933\n",
            "34784643\n",
            "34659261\n",
            "34417776\n",
            "34169178\n",
            "34086834\n",
            "34062646\n",
            "33744980\n",
            "33632587\n",
            "33588132\n",
            "33517029\n",
            "\n",
            "\n",
            "Results for 'saccades AND machine learning AND parkinson's disease'\n",
            "31446573\n",
            "27649187\n",
            "\n",
            "\n",
            "Results for 'saccades AND deep learning AND Parkinson's disease'\n",
            "\n",
            "\n"
          ]
        }
      ]
    },
    {
      "cell_type": "code",
      "source": [
        "from Bio import Entrez\n",
        "\n",
        "Entrez.email = \"salilp42@gmail.com\"\n",
        "\n",
        "# Define the search terms\n",
        "terms = [\n",
        "    \"parkinson's disease AND saccades\",\n",
        "    \"progressive supranuclear palsy AND saccades\",\n",
        "    \"saccades AND machine learning AND parkinson's disease\",\n",
        "    \"saccades AND deep learning AND Parkinson's disease\"\n",
        "]\n",
        "\n",
        "# Perform the searches and tabulate the results\n",
        "results = {}\n",
        "for term in terms:\n",
        "    handle = Entrez.esearch(db=\"pubmed\", term=term, mindate=2000, datetype='pdat', lang='eng')\n",
        "    search_results = Entrez.read(handle)\n",
        "    results[term] = search_results[\"Count\"]\n",
        "\n",
        "# Print the results\n",
        "for term, count in results.items():\n",
        "    print(f'{term}: {count}')"
      ],
      "metadata": {
        "colab": {
          "base_uri": "https://localhost:8080/"
        },
        "id": "tDYzNQyvvI1l",
        "outputId": "66afc009-31dd-4f9f-cea2-bed5e0ef4a0d"
      },
      "execution_count": 13,
      "outputs": [
        {
          "output_type": "stream",
          "name": "stdout",
          "text": [
            "parkinson's disease AND saccades: 430\n",
            "progressive supranuclear palsy AND saccades: 161\n",
            "saccades AND machine learning AND parkinson's disease: 2\n",
            "saccades AND deep learning AND Parkinson's disease: 0\n"
          ]
        }
      ]
    }
  ]
}